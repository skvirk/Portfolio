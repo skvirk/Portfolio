{
 "cells": [
  {
   "cell_type": "markdown",
   "metadata": {},
   "source": [
    "# Look of A Superhero\n",
    "\n",
    "## Executive Summary\n",
    "\n",
    "Do superheroes contribute to cultural stereotypes? The following project will analyze the superhero dataset taken from https://www.kaggle.com/claudiodavi/superhero-set/data, which will address the question stated above. In particular, the project will examine what characteristics determine hero alignment, good or bad. Uncovering how physical features, race, and gender impact alignment will indicate which characteristics are presented as positive or good.\n",
    "\n",
    "## Introduction\n",
    "\n",
    "Comic books and superheroes have been around for decades. With the recent popularity of the Marvel movie franchise, the genre’s influence on society is undeniable. The imagery and concepts found in this fantasy realm transfers to reality and vice versa. Looking at which hero characteristics lead to what alignment provides insight as to how people are represented through entertainment. Thus, societal representation through superheroes is a relevant and important aspect that should be fully explored.\n"
   ]
  },
  {
   "cell_type": "code",
   "execution_count": 2,
   "metadata": {},
   "outputs": [],
   "source": [
    "import numpy as np\n",
    "import pandas as pd\n",
    "import matplotlib.pyplot as plt\n",
    "import matplotlib.colors\n",
    "import seaborn as sns\n",
    "from scipy import stats\n",
    "import math\n",
    "%matplotlib inline\n",
    "from sklearn import preprocessing\n",
    "from sklearn.naive_bayes import BernoulliNB"
   ]
  },
  {
   "cell_type": "code",
   "execution_count": 3,
   "metadata": {},
   "outputs": [],
   "source": [
    "df = pd.read_csv('C:\\\\Users\\\\cocob\\\\Downloads\\\\heroes_information.csv')"
   ]
  },
  {
   "cell_type": "markdown",
   "metadata": {},
   "source": [
    "## Basic Info about Dataset"
   ]
  },
  {
   "cell_type": "code",
   "execution_count": 4,
   "metadata": {},
   "outputs": [
    {
     "data": {
      "text/html": [
       "<div>\n",
       "<style scoped>\n",
       "    .dataframe tbody tr th:only-of-type {\n",
       "        vertical-align: middle;\n",
       "    }\n",
       "\n",
       "    .dataframe tbody tr th {\n",
       "        vertical-align: top;\n",
       "    }\n",
       "\n",
       "    .dataframe thead th {\n",
       "        text-align: right;\n",
       "    }\n",
       "</style>\n",
       "<table border=\"1\" class=\"dataframe\">\n",
       "  <thead>\n",
       "    <tr style=\"text-align: right;\">\n",
       "      <th></th>\n",
       "      <th>name</th>\n",
       "      <th>Gender</th>\n",
       "      <th>Eye color</th>\n",
       "      <th>Race</th>\n",
       "      <th>Race.1</th>\n",
       "      <th>Hair color</th>\n",
       "      <th>Height</th>\n",
       "      <th>Publisher</th>\n",
       "      <th>Skin color</th>\n",
       "      <th>Alignment</th>\n",
       "      <th>Weight</th>\n",
       "    </tr>\n",
       "  </thead>\n",
       "  <tbody>\n",
       "    <tr>\n",
       "      <th>0</th>\n",
       "      <td>ABomb</td>\n",
       "      <td>Male</td>\n",
       "      <td>yellow</td>\n",
       "      <td>Human</td>\n",
       "      <td>Human</td>\n",
       "      <td>No Hair</td>\n",
       "      <td>203.0</td>\n",
       "      <td>Marvel Comics</td>\n",
       "      <td>NaN</td>\n",
       "      <td>good</td>\n",
       "      <td>441.0</td>\n",
       "    </tr>\n",
       "    <tr>\n",
       "      <th>1</th>\n",
       "      <td>Abe Sapien</td>\n",
       "      <td>Male</td>\n",
       "      <td>blue</td>\n",
       "      <td>Alien</td>\n",
       "      <td>Icthyo Sapien</td>\n",
       "      <td>No Hair</td>\n",
       "      <td>191.0</td>\n",
       "      <td>Dark Horse Comics</td>\n",
       "      <td>blue</td>\n",
       "      <td>good</td>\n",
       "      <td>65.0</td>\n",
       "    </tr>\n",
       "    <tr>\n",
       "      <th>2</th>\n",
       "      <td>Abin Sur</td>\n",
       "      <td>Male</td>\n",
       "      <td>blue</td>\n",
       "      <td>Alien</td>\n",
       "      <td>Ungaran</td>\n",
       "      <td>No Hair</td>\n",
       "      <td>185.0</td>\n",
       "      <td>DC Comics</td>\n",
       "      <td>red</td>\n",
       "      <td>good</td>\n",
       "      <td>90.0</td>\n",
       "    </tr>\n",
       "    <tr>\n",
       "      <th>3</th>\n",
       "      <td>Abomination</td>\n",
       "      <td>Male</td>\n",
       "      <td>green</td>\n",
       "      <td>Human</td>\n",
       "      <td>Human / Radiation</td>\n",
       "      <td>No Hair</td>\n",
       "      <td>203.0</td>\n",
       "      <td>Marvel Comics</td>\n",
       "      <td>NaN</td>\n",
       "      <td>bad</td>\n",
       "      <td>441.0</td>\n",
       "    </tr>\n",
       "    <tr>\n",
       "      <th>4</th>\n",
       "      <td>Abraxas</td>\n",
       "      <td>Male</td>\n",
       "      <td>blue</td>\n",
       "      <td>Alien</td>\n",
       "      <td>Cosmic Entity</td>\n",
       "      <td>Black</td>\n",
       "      <td>99.0</td>\n",
       "      <td>Marvel Comics</td>\n",
       "      <td>NaN</td>\n",
       "      <td>bad</td>\n",
       "      <td>99.0</td>\n",
       "    </tr>\n",
       "  </tbody>\n",
       "</table>\n",
       "</div>"
      ],
      "text/plain": [
       "          name Gender Eye color   Race             Race.1 Hair color  Height  \\\n",
       "0        ABomb   Male    yellow  Human              Human    No Hair   203.0   \n",
       "1   Abe Sapien   Male      blue  Alien      Icthyo Sapien    No Hair   191.0   \n",
       "2     Abin Sur   Male      blue  Alien            Ungaran    No Hair   185.0   \n",
       "3  Abomination   Male     green  Human  Human / Radiation    No Hair   203.0   \n",
       "4      Abraxas   Male      blue  Alien      Cosmic Entity      Black    99.0   \n",
       "\n",
       "           Publisher Skin color Alignment  Weight  \n",
       "0      Marvel Comics        NaN      good   441.0  \n",
       "1  Dark Horse Comics       blue      good    65.0  \n",
       "2          DC Comics        red      good    90.0  \n",
       "3      Marvel Comics        NaN       bad   441.0  \n",
       "4      Marvel Comics        NaN       bad    99.0  "
      ]
     },
     "execution_count": 4,
     "metadata": {},
     "output_type": "execute_result"
    }
   ],
   "source": [
    "df.head()"
   ]
  },
  {
   "cell_type": "code",
   "execution_count": 5,
   "metadata": {},
   "outputs": [
    {
     "data": {
      "text/plain": [
       "(734, 11)"
      ]
     },
     "execution_count": 5,
     "metadata": {},
     "output_type": "execute_result"
    }
   ],
   "source": [
    "df.shape"
   ]
  },
  {
   "cell_type": "code",
   "execution_count": 6,
   "metadata": {},
   "outputs": [
    {
     "data": {
      "text/html": [
       "<div>\n",
       "<style scoped>\n",
       "    .dataframe tbody tr th:only-of-type {\n",
       "        vertical-align: middle;\n",
       "    }\n",
       "\n",
       "    .dataframe tbody tr th {\n",
       "        vertical-align: top;\n",
       "    }\n",
       "\n",
       "    .dataframe thead th {\n",
       "        text-align: right;\n",
       "    }\n",
       "</style>\n",
       "<table border=\"1\" class=\"dataframe\">\n",
       "  <thead>\n",
       "    <tr style=\"text-align: right;\">\n",
       "      <th></th>\n",
       "      <th>Height</th>\n",
       "      <th>Weight</th>\n",
       "    </tr>\n",
       "  </thead>\n",
       "  <tbody>\n",
       "    <tr>\n",
       "      <th>count</th>\n",
       "      <td>734.000000</td>\n",
       "      <td>732.000000</td>\n",
       "    </tr>\n",
       "    <tr>\n",
       "      <th>mean</th>\n",
       "      <td>160.790872</td>\n",
       "      <td>107.961749</td>\n",
       "    </tr>\n",
       "    <tr>\n",
       "      <th>std</th>\n",
       "      <td>63.845126</td>\n",
       "      <td>85.843309</td>\n",
       "    </tr>\n",
       "    <tr>\n",
       "      <th>min</th>\n",
       "      <td>15.200000</td>\n",
       "      <td>2.000000</td>\n",
       "    </tr>\n",
       "    <tr>\n",
       "      <th>25%</th>\n",
       "      <td>99.000000</td>\n",
       "      <td>74.000000</td>\n",
       "    </tr>\n",
       "    <tr>\n",
       "      <th>50%</th>\n",
       "      <td>175.000000</td>\n",
       "      <td>99.000000</td>\n",
       "    </tr>\n",
       "    <tr>\n",
       "      <th>75%</th>\n",
       "      <td>185.000000</td>\n",
       "      <td>99.000000</td>\n",
       "    </tr>\n",
       "    <tr>\n",
       "      <th>max</th>\n",
       "      <td>975.000000</td>\n",
       "      <td>900.000000</td>\n",
       "    </tr>\n",
       "  </tbody>\n",
       "</table>\n",
       "</div>"
      ],
      "text/plain": [
       "           Height      Weight\n",
       "count  734.000000  732.000000\n",
       "mean   160.790872  107.961749\n",
       "std     63.845126   85.843309\n",
       "min     15.200000    2.000000\n",
       "25%     99.000000   74.000000\n",
       "50%    175.000000   99.000000\n",
       "75%    185.000000   99.000000\n",
       "max    975.000000  900.000000"
      ]
     },
     "execution_count": 6,
     "metadata": {},
     "output_type": "execute_result"
    }
   ],
   "source": [
    "df.describe()"
   ]
  },
  {
   "cell_type": "code",
   "execution_count": 7,
   "metadata": {},
   "outputs": [
    {
     "data": {
      "text/plain": [
       "name            0\n",
       "Gender         29\n",
       "Eye color     172\n",
       "Race          304\n",
       "Race.1        304\n",
       "Hair color    172\n",
       "Height          0\n",
       "Publisher      15\n",
       "Skin color    662\n",
       "Alignment       0\n",
       "Weight          2\n",
       "dtype: int64"
      ]
     },
     "execution_count": 7,
     "metadata": {},
     "output_type": "execute_result"
    }
   ],
   "source": [
    "df.isnull().sum()# looking to see if here are any missing variables"
   ]
  },
  {
   "cell_type": "markdown",
   "metadata": {},
   "source": [
    "## Data Transformation\n",
    "\n",
    "Below is feature creation. I broke up height and weight into short & tall, and small & big because I wanted to do a simple representation for those features. All the features are a matter of personal choice. I wanted to work with features that are either a or b."
   ]
  },
  {
   "cell_type": "code",
   "execution_count": 8,
   "metadata": {},
   "outputs": [],
   "source": [
    "df['Height2'] = np.where(df['Height'] <= 175, 'Short', 'Tall')"
   ]
  },
  {
   "cell_type": "code",
   "execution_count": 9,
   "metadata": {},
   "outputs": [],
   "source": [
    "df['Weight2'] = np.where(df['Weight'] <= 99, 'Small', 'Big') "
   ]
  },
  {
   "cell_type": "code",
   "execution_count": 10,
   "metadata": {},
   "outputs": [],
   "source": [
    "df['Human'] = np.where((df['Race'].isin(['Human'])), 1, 0)"
   ]
  },
  {
   "cell_type": "code",
   "execution_count": 11,
   "metadata": {},
   "outputs": [],
   "source": [
    "df['Male'] = np.where((df['Gender'].isin(['Male'])), 1, 0)"
   ]
  },
  {
   "cell_type": "code",
   "execution_count": 12,
   "metadata": {},
   "outputs": [],
   "source": [
    "df['Female'] = np.where((df['Gender'].isin(['Female'])), 1, 0)"
   ]
  },
  {
   "cell_type": "code",
   "execution_count": 13,
   "metadata": {},
   "outputs": [],
   "source": [
    "df['Good'] = np.where((df['Alignment'].isin(['good'])), 1, 0)"
   ]
  },
  {
   "cell_type": "code",
   "execution_count": 14,
   "metadata": {},
   "outputs": [],
   "source": [
    "df['Bad'] = np.where((df['Alignment'].isin(['bad'])), 1, 0)"
   ]
  },
  {
   "cell_type": "code",
   "execution_count": 15,
   "metadata": {},
   "outputs": [],
   "source": [
    "df['Hair'] = np.where((df['Hair color'].isin(['No Hair'])), 'No Hair', 'Hair')"
   ]
  },
  {
   "cell_type": "code",
   "execution_count": 16,
   "metadata": {},
   "outputs": [],
   "source": [
    "df['Hair2'] = np.where((df['Hair color'].isin(['No Hair'])), 0, 1)"
   ]
  },
  {
   "cell_type": "code",
   "execution_count": 18,
   "metadata": {},
   "outputs": [],
   "source": [
    "df2=df.dropna()# droped missing features since there are many"
   ]
  },
  {
   "cell_type": "code",
   "execution_count": 20,
   "metadata": {},
   "outputs": [
    {
     "data": {
      "text/html": [
       "<div>\n",
       "<style scoped>\n",
       "    .dataframe tbody tr th:only-of-type {\n",
       "        vertical-align: middle;\n",
       "    }\n",
       "\n",
       "    .dataframe tbody tr th {\n",
       "        vertical-align: top;\n",
       "    }\n",
       "\n",
       "    .dataframe thead th {\n",
       "        text-align: right;\n",
       "    }\n",
       "</style>\n",
       "<table border=\"1\" class=\"dataframe\">\n",
       "  <thead>\n",
       "    <tr style=\"text-align: right;\">\n",
       "      <th></th>\n",
       "      <th>name</th>\n",
       "      <th>Gender</th>\n",
       "      <th>Eye color</th>\n",
       "      <th>Race</th>\n",
       "      <th>Race.1</th>\n",
       "      <th>Hair color</th>\n",
       "      <th>Height</th>\n",
       "      <th>Publisher</th>\n",
       "      <th>Skin color</th>\n",
       "      <th>Alignment</th>\n",
       "      <th>Weight</th>\n",
       "      <th>Height2</th>\n",
       "      <th>Weight2</th>\n",
       "      <th>Human</th>\n",
       "      <th>Male</th>\n",
       "      <th>Female</th>\n",
       "      <th>Good</th>\n",
       "      <th>Bad</th>\n",
       "      <th>Hair</th>\n",
       "      <th>Hair2</th>\n",
       "    </tr>\n",
       "  </thead>\n",
       "  <tbody>\n",
       "    <tr>\n",
       "      <th>1</th>\n",
       "      <td>Abe Sapien</td>\n",
       "      <td>Male</td>\n",
       "      <td>blue</td>\n",
       "      <td>Alien</td>\n",
       "      <td>Icthyo Sapien</td>\n",
       "      <td>No Hair</td>\n",
       "      <td>191.0</td>\n",
       "      <td>Dark Horse Comics</td>\n",
       "      <td>blue</td>\n",
       "      <td>good</td>\n",
       "      <td>65.0</td>\n",
       "      <td>Tall</td>\n",
       "      <td>Small</td>\n",
       "      <td>0</td>\n",
       "      <td>1</td>\n",
       "      <td>0</td>\n",
       "      <td>1</td>\n",
       "      <td>0</td>\n",
       "      <td>No Hair</td>\n",
       "      <td>0</td>\n",
       "    </tr>\n",
       "    <tr>\n",
       "      <th>2</th>\n",
       "      <td>Abin Sur</td>\n",
       "      <td>Male</td>\n",
       "      <td>blue</td>\n",
       "      <td>Alien</td>\n",
       "      <td>Ungaran</td>\n",
       "      <td>No Hair</td>\n",
       "      <td>185.0</td>\n",
       "      <td>DC Comics</td>\n",
       "      <td>red</td>\n",
       "      <td>good</td>\n",
       "      <td>90.0</td>\n",
       "      <td>Tall</td>\n",
       "      <td>Small</td>\n",
       "      <td>0</td>\n",
       "      <td>1</td>\n",
       "      <td>0</td>\n",
       "      <td>1</td>\n",
       "      <td>0</td>\n",
       "      <td>No Hair</td>\n",
       "      <td>0</td>\n",
       "    </tr>\n",
       "    <tr>\n",
       "      <th>34</th>\n",
       "      <td>Apocalypse</td>\n",
       "      <td>Male</td>\n",
       "      <td>red</td>\n",
       "      <td>Mutant</td>\n",
       "      <td>Mutant</td>\n",
       "      <td>Black</td>\n",
       "      <td>213.0</td>\n",
       "      <td>Marvel Comics</td>\n",
       "      <td>grey</td>\n",
       "      <td>bad</td>\n",
       "      <td>135.0</td>\n",
       "      <td>Tall</td>\n",
       "      <td>Big</td>\n",
       "      <td>0</td>\n",
       "      <td>1</td>\n",
       "      <td>0</td>\n",
       "      <td>0</td>\n",
       "      <td>1</td>\n",
       "      <td>Hair</td>\n",
       "      <td>1</td>\n",
       "    </tr>\n",
       "    <tr>\n",
       "      <th>39</th>\n",
       "      <td>Archangel</td>\n",
       "      <td>Male</td>\n",
       "      <td>blue</td>\n",
       "      <td>Mutant</td>\n",
       "      <td>Mutant</td>\n",
       "      <td>Blond</td>\n",
       "      <td>183.0</td>\n",
       "      <td>Marvel Comics</td>\n",
       "      <td>blue</td>\n",
       "      <td>good</td>\n",
       "      <td>68.0</td>\n",
       "      <td>Tall</td>\n",
       "      <td>Small</td>\n",
       "      <td>0</td>\n",
       "      <td>1</td>\n",
       "      <td>0</td>\n",
       "      <td>1</td>\n",
       "      <td>0</td>\n",
       "      <td>Hair</td>\n",
       "      <td>1</td>\n",
       "    </tr>\n",
       "    <tr>\n",
       "      <th>41</th>\n",
       "      <td>Ardina</td>\n",
       "      <td>Female</td>\n",
       "      <td>white</td>\n",
       "      <td>Alien</td>\n",
       "      <td>Alien</td>\n",
       "      <td>Orange</td>\n",
       "      <td>193.0</td>\n",
       "      <td>Marvel Comics</td>\n",
       "      <td>gold</td>\n",
       "      <td>good</td>\n",
       "      <td>98.0</td>\n",
       "      <td>Tall</td>\n",
       "      <td>Small</td>\n",
       "      <td>0</td>\n",
       "      <td>0</td>\n",
       "      <td>1</td>\n",
       "      <td>1</td>\n",
       "      <td>0</td>\n",
       "      <td>Hair</td>\n",
       "      <td>1</td>\n",
       "    </tr>\n",
       "  </tbody>\n",
       "</table>\n",
       "</div>"
      ],
      "text/plain": [
       "          name  Gender Eye color    Race         Race.1 Hair color  Height  \\\n",
       "1   Abe Sapien    Male      blue   Alien  Icthyo Sapien    No Hair   191.0   \n",
       "2     Abin Sur    Male      blue   Alien        Ungaran    No Hair   185.0   \n",
       "34  Apocalypse    Male       red  Mutant         Mutant      Black   213.0   \n",
       "39   Archangel    Male      blue  Mutant         Mutant      Blond   183.0   \n",
       "41      Ardina  Female     white   Alien          Alien     Orange   193.0   \n",
       "\n",
       "            Publisher Skin color Alignment  Weight Height2 Weight2  Human  \\\n",
       "1   Dark Horse Comics       blue      good    65.0    Tall   Small      0   \n",
       "2           DC Comics        red      good    90.0    Tall   Small      0   \n",
       "34      Marvel Comics       grey       bad   135.0    Tall     Big      0   \n",
       "39      Marvel Comics       blue      good    68.0    Tall   Small      0   \n",
       "41      Marvel Comics       gold      good    98.0    Tall   Small      0   \n",
       "\n",
       "    Male  Female  Good  Bad     Hair  Hair2  \n",
       "1      1       0     1    0  No Hair      0  \n",
       "2      1       0     1    0  No Hair      0  \n",
       "34     1       0     0    1     Hair      1  \n",
       "39     1       0     1    0     Hair      1  \n",
       "41     0       1     1    0     Hair      1  "
      ]
     },
     "execution_count": 20,
     "metadata": {},
     "output_type": "execute_result"
    }
   ],
   "source": [
    "df2.head()#visual of the data"
   ]
  },
  {
   "cell_type": "markdown",
   "metadata": {},
   "source": [
    "## Exploratory Analysis"
   ]
  },
  {
   "cell_type": "markdown",
   "metadata": {},
   "source": [
    "## Feature Correlation"
   ]
  },
  {
   "cell_type": "code",
   "execution_count": 21,
   "metadata": {},
   "outputs": [
    {
     "data": {
      "text/html": [
       "<div>\n",
       "<style scoped>\n",
       "    .dataframe tbody tr th:only-of-type {\n",
       "        vertical-align: middle;\n",
       "    }\n",
       "\n",
       "    .dataframe tbody tr th {\n",
       "        vertical-align: top;\n",
       "    }\n",
       "\n",
       "    .dataframe thead th {\n",
       "        text-align: right;\n",
       "    }\n",
       "</style>\n",
       "<table border=\"1\" class=\"dataframe\">\n",
       "  <thead>\n",
       "    <tr style=\"text-align: right;\">\n",
       "      <th></th>\n",
       "      <th>Height</th>\n",
       "      <th>Weight</th>\n",
       "      <th>Human</th>\n",
       "      <th>Male</th>\n",
       "      <th>Female</th>\n",
       "      <th>Good</th>\n",
       "      <th>Bad</th>\n",
       "      <th>Hair2</th>\n",
       "    </tr>\n",
       "  </thead>\n",
       "  <tbody>\n",
       "    <tr>\n",
       "      <th>Height</th>\n",
       "      <td>1.000000</td>\n",
       "      <td>0.073728</td>\n",
       "      <td>-0.052855</td>\n",
       "      <td>0.116600</td>\n",
       "      <td>-0.116600</td>\n",
       "      <td>0.078180</td>\n",
       "      <td>-0.088085</td>\n",
       "      <td>-0.166414</td>\n",
       "    </tr>\n",
       "    <tr>\n",
       "      <th>Weight</th>\n",
       "      <td>0.073728</td>\n",
       "      <td>1.000000</td>\n",
       "      <td>0.168399</td>\n",
       "      <td>0.276783</td>\n",
       "      <td>-0.276783</td>\n",
       "      <td>-0.193114</td>\n",
       "      <td>0.060165</td>\n",
       "      <td>-0.152659</td>\n",
       "    </tr>\n",
       "    <tr>\n",
       "      <th>Human</th>\n",
       "      <td>-0.052855</td>\n",
       "      <td>0.168399</td>\n",
       "      <td>1.000000</td>\n",
       "      <td>-0.159176</td>\n",
       "      <td>0.159176</td>\n",
       "      <td>-0.048828</td>\n",
       "      <td>0.135037</td>\n",
       "      <td>0.185581</td>\n",
       "    </tr>\n",
       "    <tr>\n",
       "      <th>Male</th>\n",
       "      <td>0.116600</td>\n",
       "      <td>0.276783</td>\n",
       "      <td>-0.159176</td>\n",
       "      <td>1.000000</td>\n",
       "      <td>-1.000000</td>\n",
       "      <td>-0.113685</td>\n",
       "      <td>0.053561</td>\n",
       "      <td>-0.373097</td>\n",
       "    </tr>\n",
       "    <tr>\n",
       "      <th>Female</th>\n",
       "      <td>-0.116600</td>\n",
       "      <td>-0.276783</td>\n",
       "      <td>0.159176</td>\n",
       "      <td>-1.000000</td>\n",
       "      <td>1.000000</td>\n",
       "      <td>0.113685</td>\n",
       "      <td>-0.053561</td>\n",
       "      <td>0.373097</td>\n",
       "    </tr>\n",
       "    <tr>\n",
       "      <th>Good</th>\n",
       "      <td>0.078180</td>\n",
       "      <td>-0.193114</td>\n",
       "      <td>-0.048828</td>\n",
       "      <td>-0.113685</td>\n",
       "      <td>0.113685</td>\n",
       "      <td>1.000000</td>\n",
       "      <td>-0.756100</td>\n",
       "      <td>-0.156987</td>\n",
       "    </tr>\n",
       "    <tr>\n",
       "      <th>Bad</th>\n",
       "      <td>-0.088085</td>\n",
       "      <td>0.060165</td>\n",
       "      <td>0.135037</td>\n",
       "      <td>0.053561</td>\n",
       "      <td>-0.053561</td>\n",
       "      <td>-0.756100</td>\n",
       "      <td>1.000000</td>\n",
       "      <td>-0.007285</td>\n",
       "    </tr>\n",
       "    <tr>\n",
       "      <th>Hair2</th>\n",
       "      <td>-0.166414</td>\n",
       "      <td>-0.152659</td>\n",
       "      <td>0.185581</td>\n",
       "      <td>-0.373097</td>\n",
       "      <td>0.373097</td>\n",
       "      <td>-0.156987</td>\n",
       "      <td>-0.007285</td>\n",
       "      <td>1.000000</td>\n",
       "    </tr>\n",
       "  </tbody>\n",
       "</table>\n",
       "</div>"
      ],
      "text/plain": [
       "          Height    Weight     Human      Male    Female      Good       Bad  \\\n",
       "Height  1.000000  0.073728 -0.052855  0.116600 -0.116600  0.078180 -0.088085   \n",
       "Weight  0.073728  1.000000  0.168399  0.276783 -0.276783 -0.193114  0.060165   \n",
       "Human  -0.052855  0.168399  1.000000 -0.159176  0.159176 -0.048828  0.135037   \n",
       "Male    0.116600  0.276783 -0.159176  1.000000 -1.000000 -0.113685  0.053561   \n",
       "Female -0.116600 -0.276783  0.159176 -1.000000  1.000000  0.113685 -0.053561   \n",
       "Good    0.078180 -0.193114 -0.048828 -0.113685  0.113685  1.000000 -0.756100   \n",
       "Bad    -0.088085  0.060165  0.135037  0.053561 -0.053561 -0.756100  1.000000   \n",
       "Hair2  -0.166414 -0.152659  0.185581 -0.373097  0.373097 -0.156987 -0.007285   \n",
       "\n",
       "           Hair2  \n",
       "Height -0.166414  \n",
       "Weight -0.152659  \n",
       "Human   0.185581  \n",
       "Male   -0.373097  \n",
       "Female  0.373097  \n",
       "Good   -0.156987  \n",
       "Bad    -0.007285  \n",
       "Hair2   1.000000  "
      ]
     },
     "execution_count": 21,
     "metadata": {},
     "output_type": "execute_result"
    }
   ],
   "source": [
    "df2.corr()#to see how the features are related to one another"
   ]
  },
  {
   "cell_type": "code",
   "execution_count": 22,
   "metadata": {},
   "outputs": [
    {
     "data": {
      "image/png": "[encoded data removed]",
      "text/plain": [
       "<matplotlib.figure.Figure at 0x1fc412dc860>"
      ]
     },
     "metadata": {},
     "output_type": "display_data"
    }
   ],
   "source": [
    "#visually demonstrate that the independent features are truly independent\n",
    "corrmat = df2.corr()\n",
    "sns.heatmap(corrmat, vmax=.8, square=True)\n",
    "plt.show()"
   ]
  },
  {
   "cell_type": "markdown",
   "metadata": {},
   "source": [
    "## Graphs"
   ]
  },
  {
   "cell_type": "code",
   "execution_count": 23,
   "metadata": {},
   "outputs": [
    {
     "data": {
      "image/png": "[encoded data removed]",
      "text/plain": [
       "<matplotlib.figure.Figure at 0x1fc413260f0>"
      ]
     },
     "metadata": {},
     "output_type": "display_data"
    }
   ],
   "source": [
    "sns.set(style='darkgrid')\n",
    "sns.countplot(x='Alignment', data=df2, palette= 'OrRd');"
   ]
  },
  {
   "cell_type": "markdown",
   "metadata": {},
   "source": [
    "The graph above demonstrates how many superheros are bad, good, or neutral. For the purpose of this project, main focus will be directed toward good and bad alignment. The analysis below will determine which gender, skin color, hair, and race generate what alignment."
   ]
  },
  {
   "cell_type": "markdown",
   "metadata": {},
   "source": [
    "### Height and Weight determination for Alignment"
   ]
  },
  {
   "cell_type": "code",
   "execution_count": 24,
   "metadata": {},
   "outputs": [
    {
     "data": {
      "image/png": "[encoded data removed]",
      "text/plain": [
       "<matplotlib.figure.Figure at 0x1fc41782c50>"
      ]
     },
     "metadata": {},
     "output_type": "display_data"
    },
    {
     "data": {
      "image/png": "[encoded data removed]",
      "text/plain": [
       "<matplotlib.figure.Figure at 0x1fc417f9f98>"
      ]
     },
     "metadata": {},
     "output_type": "display_data"
    },
    {
     "data": {
      "image/png": "[encoded data removed]",
      "text/plain": [
       "<matplotlib.figure.Figure at 0x1fc3b1ed208>"
      ]
     },
     "metadata": {},
     "output_type": "display_data"
    },
    {
     "data": {
      "image/png": "[encoded data removed]",
      "text/plain": [
       "<matplotlib.figure.Figure at 0x1fc418276a0>"
      ]
     },
     "metadata": {},
     "output_type": "display_data"
    }
   ],
   "source": [
    "sns.set(style='darkgrid')\n",
    "sns.factorplot(x='Height2', y='Good', data=df2, size=5, kind='bar', palette='PRGn')\n",
    "plt.show()\n",
    "\n",
    "sns.factorplot(x='Height2', y='Bad', data=df2, size=5, kind='bar', palette='PRGn')\n",
    "plt.show()\n",
    "\n",
    "sns.factorplot(x='Weight2', y='Good', data=df2, size=5, kind='bar', palette='RdBu')\n",
    "plt.show()\n",
    "\n",
    "sns.factorplot(x='Weight2', y='Bad', data=df2, size=5, kind='bar', palette='RdBu')\n",
    "plt.show()"
   ]
  },
  {
   "cell_type": "markdown",
   "metadata": {},
   "source": [
    "Based on the graphics above, short and small superheros are more likely to be good than big and tall superheros. As height and weight increases, superhero alignment shifts towards bad."
   ]
  },
  {
   "cell_type": "markdown",
   "metadata": {},
   "source": [
    "Gender and Alignment Correlation(I did not use these for the final presentation. Only the graphs)"
   ]
  },
  {
   "cell_type": "code",
   "execution_count": 26,
   "metadata": {},
   "outputs": [
    {
     "data": {
      "text/plain": [
       "Ttest_indResult(statistic=-17.01899303313765, pvalue=2.0534843544272114e-59)"
      ]
     },
     "execution_count": 26,
     "metadata": {},
     "output_type": "execute_result"
    }
   ],
   "source": [
    "stats.ttest_ind(df['Bad'], df['Male'])"
   ]
  },
  {
   "cell_type": "code",
   "execution_count": 27,
   "metadata": {},
   "outputs": [
    {
     "data": {
      "text/plain": [
       "Ttest_indResult(statistic=-0.5040477086887254, pvalue=0.6143035910718535)"
      ]
     },
     "execution_count": 27,
     "metadata": {},
     "output_type": "execute_result"
    }
   ],
   "source": [
    "stats.ttest_ind(df['Good'], df['Male'])"
   ]
  },
  {
   "cell_type": "code",
   "execution_count": 28,
   "metadata": {},
   "outputs": [
    {
     "data": {
      "text/plain": [
       "Ttest_indResult(statistic=0.40788221587086176, pvalue=0.6834197088324643)"
      ]
     },
     "execution_count": 28,
     "metadata": {},
     "output_type": "execute_result"
    }
   ],
   "source": [
    "stats.ttest_ind(df['Bad'], df['Female'])"
   ]
  },
  {
   "cell_type": "code",
   "execution_count": 29,
   "metadata": {},
   "outputs": [
    {
     "data": {
      "text/plain": [
       "Ttest_indResult(statistic=16.900485622867876, pvalue=1.1084252540076607e-58)"
      ]
     },
     "execution_count": 29,
     "metadata": {},
     "output_type": "execute_result"
    }
   ],
   "source": [
    "stats.ttest_ind(df['Good'], df['Female'])"
   ]
  },
  {
   "cell_type": "markdown",
   "metadata": {},
   "source": [
    "Given the p-values, there is a correlation between gender and alignment. Males are more likely to be bad in comparison to females who have a stronger correlation for being good. The graph below visualizes this point."
   ]
  },
  {
   "cell_type": "code",
   "execution_count": 30,
   "metadata": {},
   "outputs": [
    {
     "data": {
      "image/png": "[encoded data removed]",
      "text/plain": [
       "<matplotlib.figure.Figure at 0x2d2c1cd47f0>"
      ]
     },
     "metadata": {},
     "output_type": "display_data"
    },
    {
     "data": {
      "image/png": "[encoded data removed]",
      "text/plain": [
       "<matplotlib.figure.Figure at 0x2d2c1ae9fd0>"
      ]
     },
     "metadata": {},
     "output_type": "display_data"
    }
   ],
   "source": [
    "sns.set(style='darkgrid')\n",
    "sns.factorplot(x='Gender', y='Good', data=df, size=5, kind='bar', palette='PuBu')\n",
    "plt.show()\n",
    "\n",
    "sns.factorplot(x='Gender', y='Bad', data=df, size=5, kind='bar', palette='PuBu')\n",
    "plt.show()"
   ]
  },
  {
   "cell_type": "markdown",
   "metadata": {},
   "source": [
    "### Alignment by Physical Features"
   ]
  },
  {
   "cell_type": "markdown",
   "metadata": {},
   "source": [
    "#### Hero Alignment Given Skin Color"
   ]
  },
  {
   "cell_type": "code",
   "execution_count": 27,
   "metadata": {},
   "outputs": [
    {
     "data": {
      "text/html": [
       "<div>\n",
       "<style scoped>\n",
       "    .dataframe tbody tr th:only-of-type {\n",
       "        vertical-align: middle;\n",
       "    }\n",
       "\n",
       "    .dataframe tbody tr th {\n",
       "        vertical-align: top;\n",
       "    }\n",
       "\n",
       "    .dataframe thead th {\n",
       "        text-align: right;\n",
       "    }\n",
       "</style>\n",
       "<table border=\"1\" class=\"dataframe\">\n",
       "  <thead>\n",
       "    <tr style=\"text-align: right;\">\n",
       "      <th>Skin color</th>\n",
       "      <th>black</th>\n",
       "      <th>blue</th>\n",
       "      <th>bluewhite</th>\n",
       "      <th>gold</th>\n",
       "      <th>gray</th>\n",
       "      <th>green</th>\n",
       "      <th>grey</th>\n",
       "      <th>orange</th>\n",
       "      <th>orange / white</th>\n",
       "      <th>pink</th>\n",
       "      <th>purple</th>\n",
       "      <th>red</th>\n",
       "      <th>red / black</th>\n",
       "      <th>silver</th>\n",
       "      <th>white</th>\n",
       "      <th>yellow</th>\n",
       "      <th>All</th>\n",
       "    </tr>\n",
       "    <tr>\n",
       "      <th>Alignment</th>\n",
       "      <th></th>\n",
       "      <th></th>\n",
       "      <th></th>\n",
       "      <th></th>\n",
       "      <th></th>\n",
       "      <th></th>\n",
       "      <th></th>\n",
       "      <th></th>\n",
       "      <th></th>\n",
       "      <th></th>\n",
       "      <th></th>\n",
       "      <th></th>\n",
       "      <th></th>\n",
       "      <th></th>\n",
       "      <th></th>\n",
       "      <th></th>\n",
       "      <th></th>\n",
       "    </tr>\n",
       "  </thead>\n",
       "  <tbody>\n",
       "    <tr>\n",
       "      <th>bad</th>\n",
       "      <td>1</td>\n",
       "      <td>3</td>\n",
       "      <td>0</td>\n",
       "      <td>0</td>\n",
       "      <td>0</td>\n",
       "      <td>6</td>\n",
       "      <td>4</td>\n",
       "      <td>0</td>\n",
       "      <td>0</td>\n",
       "      <td>0</td>\n",
       "      <td>2</td>\n",
       "      <td>4</td>\n",
       "      <td>1</td>\n",
       "      <td>3</td>\n",
       "      <td>3</td>\n",
       "      <td>1</td>\n",
       "      <td>28</td>\n",
       "    </tr>\n",
       "    <tr>\n",
       "      <th>good</th>\n",
       "      <td>0</td>\n",
       "      <td>5</td>\n",
       "      <td>0</td>\n",
       "      <td>2</td>\n",
       "      <td>1</td>\n",
       "      <td>14</td>\n",
       "      <td>1</td>\n",
       "      <td>1</td>\n",
       "      <td>1</td>\n",
       "      <td>2</td>\n",
       "      <td>0</td>\n",
       "      <td>3</td>\n",
       "      <td>0</td>\n",
       "      <td>2</td>\n",
       "      <td>3</td>\n",
       "      <td>0</td>\n",
       "      <td>35</td>\n",
       "    </tr>\n",
       "    <tr>\n",
       "      <th>neutral</th>\n",
       "      <td>0</td>\n",
       "      <td>1</td>\n",
       "      <td>1</td>\n",
       "      <td>1</td>\n",
       "      <td>0</td>\n",
       "      <td>1</td>\n",
       "      <td>0</td>\n",
       "      <td>0</td>\n",
       "      <td>0</td>\n",
       "      <td>0</td>\n",
       "      <td>1</td>\n",
       "      <td>2</td>\n",
       "      <td>0</td>\n",
       "      <td>0</td>\n",
       "      <td>1</td>\n",
       "      <td>1</td>\n",
       "      <td>9</td>\n",
       "    </tr>\n",
       "    <tr>\n",
       "      <th>All</th>\n",
       "      <td>1</td>\n",
       "      <td>9</td>\n",
       "      <td>1</td>\n",
       "      <td>3</td>\n",
       "      <td>1</td>\n",
       "      <td>21</td>\n",
       "      <td>5</td>\n",
       "      <td>1</td>\n",
       "      <td>1</td>\n",
       "      <td>2</td>\n",
       "      <td>3</td>\n",
       "      <td>9</td>\n",
       "      <td>1</td>\n",
       "      <td>5</td>\n",
       "      <td>7</td>\n",
       "      <td>2</td>\n",
       "      <td>72</td>\n",
       "    </tr>\n",
       "  </tbody>\n",
       "</table>\n",
       "</div>"
      ],
      "text/plain": [
       "Skin color  black  blue  bluewhite  gold  gray  green  grey  orange  \\\n",
       "Alignment                                                             \n",
       "bad             1     3          0     0     0      6     4       0   \n",
       "good            0     5          0     2     1     14     1       1   \n",
       "neutral         0     1          1     1     0      1     0       0   \n",
       "All             1     9          1     3     1     21     5       1   \n",
       "\n",
       "Skin color  orange / white  pink  purple  red  red / black  silver  white  \\\n",
       "Alignment                                                                   \n",
       "bad                      0     0       2    4            1       3      3   \n",
       "good                     1     2       0    3            0       2      3   \n",
       "neutral                  0     0       1    2            0       0      1   \n",
       "All                      1     2       3    9            1       5      7   \n",
       "\n",
       "Skin color  yellow  All  \n",
       "Alignment                \n",
       "bad              1   28  \n",
       "good             0   35  \n",
       "neutral          1    9  \n",
       "All              2   72  "
      ]
     },
     "execution_count": 27,
     "metadata": {},
     "output_type": "execute_result"
    }
   ],
   "source": [
    "#crosstab not used for final presentation\n",
    "pd.crosstab(df['Alignment'], df['Skin color'],margins=True)#this is a clear way to see which color aligns with what."
   ]
  },
  {
   "cell_type": "code",
   "execution_count": 26,
   "metadata": {},
   "outputs": [
    {
     "data": {
      "image/png": "[encoded data removed]",
      "text/plain": [
       "<matplotlib.figure.Figure at 0x1fc4175f5f8>"
      ]
     },
     "metadata": {},
     "output_type": "display_data"
    },
    {
     "data": {
      "image/png": "[encoded data removed]",
      "text/plain": [
       "<matplotlib.figure.Figure at 0x1fc418a6e48>"
      ]
     },
     "metadata": {},
     "output_type": "display_data"
    }
   ],
   "source": [
    "sns.set(font_scale=2)\n",
    "sns.factorplot(x='Skin color', y='Good', data=df, size=20, palette='OrRd')\n",
    "plt.show()\n",
    "\n",
    "sns.factorplot(x='Skin color', y='Bad', data=df, size=20, palette='OrRd')\n",
    "plt.show()"
   ]
  },
  {
   "cell_type": "markdown",
   "metadata": {},
   "source": [
    "Shown above is the superhero alignment by skin color. Most notable colors were blue, red, grey, and green since majority of superheroes are these colors. Grey superheroes illustrate less of a chance in being bad. While the black superhero is likely to align as bad, the n value in only one.\n",
    "\n",
    "Upon inspection, grey spectrum skin colors were more likely to display bad alignment in comparison to the remaining colors. This notion demonstrates that color vibrancy may be an indicator of character alignment."
   ]
  },
  {
   "cell_type": "markdown",
   "metadata": {},
   "source": [
    "#### Alignment based on Hair"
   ]
  },
  {
   "cell_type": "code",
   "execution_count": 28,
   "metadata": {},
   "outputs": [
    {
     "data": {
      "text/plain": [
       "Ttest_indResult(statistic=-30.736655498666014, pvalue=1.518703872000688e-160)"
      ]
     },
     "execution_count": 28,
     "metadata": {},
     "output_type": "execute_result"
    }
   ],
   "source": [
    "#not used in final presentation\n",
    "df['Hair2'] = np.where((df['Hair color'].isin(['No Hair'])), 0, 1)\n",
    "stats.ttest_ind(df['Bad'], df['Hair2'])"
   ]
  },
  {
   "cell_type": "code",
   "execution_count": 29,
   "metadata": {},
   "outputs": [
    {
     "data": {
      "text/plain": [
       "Ttest_indResult(statistic=-10.783684960480832, pvalue=3.8190308232290055e-26)"
      ]
     },
     "execution_count": 29,
     "metadata": {},
     "output_type": "execute_result"
    }
   ],
   "source": [
    "#not used in final presentation\n",
    "stats.ttest_ind(df['Good'], df['Hair2'])"
   ]
  },
  {
   "cell_type": "code",
   "execution_count": 30,
   "metadata": {},
   "outputs": [
    {
     "data": {
      "image/png": "[encoded data removed]",
      "text/plain": [
       "<matplotlib.figure.Figure at 0x1fc422381d0>"
      ]
     },
     "metadata": {},
     "output_type": "display_data"
    },
    {
     "data": {
      "image/png": "[encoded data removed]",
      "text/plain": [
       "<matplotlib.figure.Figure at 0x1fc4323d240>"
      ]
     },
     "metadata": {},
     "output_type": "display_data"
    }
   ],
   "source": [
    "sns.set(style='darkgrid')\n",
    "sns.factorplot(x='Hair', y='Good', data=df, kind='point', palette='rainbow', size=5)\n",
    "plt.show()\n",
    "\n",
    "sns.factorplot(x='Hair', y='Bad', data=df, kind='point', palette='rainbow', size=5)\n",
    "plt.show()"
   ]
  },
  {
   "cell_type": "markdown",
   "metadata": {},
   "source": [
    "Based on the info provided above, superhereos with hair are more likely to align good. Contrastly, superhereos without hair are more likely to align bad."
   ]
  },
  {
   "cell_type": "code",
   "execution_count": 31,
   "metadata": {},
   "outputs": [
    {
     "data": {
      "image/png": "[encoded data removed]",
      "text/plain": [
       "<matplotlib.figure.Figure at 0x1fc431fbe10>"
      ]
     },
     "metadata": {},
     "output_type": "display_data"
    },
    {
     "data": {
      "image/png": "[encoded data removed]",
      "text/plain": [
       "<matplotlib.figure.Figure at 0x1fc42212080>"
      ]
     },
     "metadata": {},
     "output_type": "display_data"
    }
   ],
   "source": [
    "sns.set(font_scale=2)\n",
    "sns.factorplot(x='Race', y='Good', data=df, kind='point', palette='rainbow', size=15)\n",
    "plt.show()\n",
    "\n",
    "sns.factorplot(x='Race', y='Bad', data=df, kind='point', palette='rainbow', size=15)\n",
    "plt.show()"
   ]
  },
  {
   "cell_type": "markdown",
   "metadata": {},
   "source": [
    "Most Races vary staying within between bad and almost good. Woodland, Demon, and god consist of a wide range. Humans and Mutants trend closer to good. While Human/Cosmic aligns good, there is only a n value of one."
   ]
  },
  {
   "cell_type": "markdown",
   "metadata": {},
   "source": [
    "## Random Forest"
   ]
  },
  {
   "cell_type": "code",
   "execution_count": 45,
   "metadata": {},
   "outputs": [],
   "source": [
    "# chose this model because handles any class imbalances\n",
    "from sklearn import ensemble\n",
    "from sklearn.model_selection import cross_val_score"
   ]
  },
  {
   "cell_type": "code",
   "execution_count": 46,
   "metadata": {},
   "outputs": [],
   "source": [
    "X=pd.get_dummies(df2[['Gender', 'Race', 'Skin color', 'Hair', 'Height2', 'Weight2']]).dropna()"
   ]
  },
  {
   "cell_type": "code",
   "execution_count": 47,
   "metadata": {},
   "outputs": [
    {
     "data": {
      "text/plain": [
       "array([0.66666667, 0.5       , 0.66666667, 0.66666667, 0.5       ,\n",
       "       0.66666667, 0.5       , 0.33333333, 0.5       , 0.4       ])"
      ]
     },
     "execution_count": 47,
     "metadata": {},
     "output_type": "execute_result"
    }
   ],
   "source": [
    "rfc = ensemble.RandomForestClassifier()\n",
    "Y = df2['Good']\n",
    "X = pd.get_dummies(X)\n",
    "X = X.dropna(axis=1)\n",
    "X_array = np.array(X.dropna(axis=1))\n",
    "Y = pd.get_dummies(Y)\n",
    "\n",
    "cross_val_score(rfc, X_array, Y, cv=10)\n",
    "#each numer is each section of teh fold"
   ]
  },
  {
   "cell_type": "code",
   "execution_count": 48,
   "metadata": {},
   "outputs": [
    {
     "data": {
      "text/plain": [
       "0.9491525423728814"
      ]
     },
     "execution_count": 48,
     "metadata": {},
     "output_type": "execute_result"
    }
   ],
   "source": [
    "rfc.fit(X, Y)\n",
    "rfc.score(X, Y)"
   ]
  },
  {
   "cell_type": "markdown",
   "metadata": {},
   "source": [
    "#### Generating Feature Importance"
   ]
  },
  {
   "cell_type": "code",
   "execution_count": 42,
   "metadata": {},
   "outputs": [
    {
     "data": {
      "text/plain": [
       "array([0.0451635 , 0.0174661 , 0.06701612, 0.02685611, 0.04431322,\n",
       "       0.06149896, 0.00026613, 0.01733909, 0.05024416, 0.0200775 ,\n",
       "       0.03831662, 0.00169931, 0.01263673, 0.01155798, 0.07866072,\n",
       "       0.02531365, 0.00270723, 0.01633402, 0.04364333, 0.08120624,\n",
       "       0.02416724, 0.02858972, 0.02905164, 0.05934496, 0.03419337,\n",
       "       0.01791599, 0.05170226, 0.03566438, 0.0570537 ])"
      ]
     },
     "execution_count": 42,
     "metadata": {},
     "output_type": "execute_result"
    }
   ],
   "source": [
    "rfc.feature_importances_"
   ]
  },
  {
   "cell_type": "code",
   "execution_count": 43,
   "metadata": {},
   "outputs": [
    {
     "data": {
      "text/html": [
       "<div>\n",
       "<style scoped>\n",
       "    .dataframe tbody tr th:only-of-type {\n",
       "        vertical-align: middle;\n",
       "    }\n",
       "\n",
       "    .dataframe tbody tr th {\n",
       "        vertical-align: top;\n",
       "    }\n",
       "\n",
       "    .dataframe thead th {\n",
       "        text-align: right;\n",
       "    }\n",
       "</style>\n",
       "<table border=\"1\" class=\"dataframe\">\n",
       "  <thead>\n",
       "    <tr style=\"text-align: right;\">\n",
       "      <th></th>\n",
       "      <th>importance</th>\n",
       "    </tr>\n",
       "  </thead>\n",
       "  <tbody>\n",
       "    <tr>\n",
       "      <th>Skin color_red</th>\n",
       "      <td>0.081206</td>\n",
       "    </tr>\n",
       "    <tr>\n",
       "      <th>Skin color_green</th>\n",
       "      <td>0.078661</td>\n",
       "    </tr>\n",
       "    <tr>\n",
       "      <th>Race_Alien</th>\n",
       "      <td>0.067016</td>\n",
       "    </tr>\n",
       "    <tr>\n",
       "      <th>Race_Human</th>\n",
       "      <td>0.061499</td>\n",
       "    </tr>\n",
       "    <tr>\n",
       "      <th>Hair_Hair</th>\n",
       "      <td>0.059345</td>\n",
       "    </tr>\n",
       "    <tr>\n",
       "      <th>Weight2_Small</th>\n",
       "      <td>0.057054</td>\n",
       "    </tr>\n",
       "    <tr>\n",
       "      <th>Height2_Tall</th>\n",
       "      <td>0.051702</td>\n",
       "    </tr>\n",
       "    <tr>\n",
       "      <th>Race_Mutant</th>\n",
       "      <td>0.050244</td>\n",
       "    </tr>\n",
       "    <tr>\n",
       "      <th>Gender_Female</th>\n",
       "      <td>0.045164</td>\n",
       "    </tr>\n",
       "    <tr>\n",
       "      <th>Race_God</th>\n",
       "      <td>0.044313</td>\n",
       "    </tr>\n",
       "    <tr>\n",
       "      <th>Skin color_purple</th>\n",
       "      <td>0.043643</td>\n",
       "    </tr>\n",
       "    <tr>\n",
       "      <th>Skin color_blue</th>\n",
       "      <td>0.038317</td>\n",
       "    </tr>\n",
       "    <tr>\n",
       "      <th>Weight2_Big</th>\n",
       "      <td>0.035664</td>\n",
       "    </tr>\n",
       "    <tr>\n",
       "      <th>Hair_No Hair</th>\n",
       "      <td>0.034193</td>\n",
       "    </tr>\n",
       "    <tr>\n",
       "      <th>Skin color_yellow</th>\n",
       "      <td>0.029052</td>\n",
       "    </tr>\n",
       "    <tr>\n",
       "      <th>Skin color_white</th>\n",
       "      <td>0.028590</td>\n",
       "    </tr>\n",
       "    <tr>\n",
       "      <th>Race_Demon</th>\n",
       "      <td>0.026856</td>\n",
       "    </tr>\n",
       "    <tr>\n",
       "      <th>Skin color_grey</th>\n",
       "      <td>0.025314</td>\n",
       "    </tr>\n",
       "    <tr>\n",
       "      <th>Skin color_silver</th>\n",
       "      <td>0.024167</td>\n",
       "    </tr>\n",
       "    <tr>\n",
       "      <th>Race_Woodland</th>\n",
       "      <td>0.020077</td>\n",
       "    </tr>\n",
       "    <tr>\n",
       "      <th>Height2_Short</th>\n",
       "      <td>0.017916</td>\n",
       "    </tr>\n",
       "    <tr>\n",
       "      <th>Gender_Male</th>\n",
       "      <td>0.017466</td>\n",
       "    </tr>\n",
       "    <tr>\n",
       "      <th>Race_Machine/Droid</th>\n",
       "      <td>0.017339</td>\n",
       "    </tr>\n",
       "    <tr>\n",
       "      <th>Skin color_pink</th>\n",
       "      <td>0.016334</td>\n",
       "    </tr>\n",
       "    <tr>\n",
       "      <th>Skin color_gold</th>\n",
       "      <td>0.012637</td>\n",
       "    </tr>\n",
       "    <tr>\n",
       "      <th>Skin color_gray</th>\n",
       "      <td>0.011558</td>\n",
       "    </tr>\n",
       "    <tr>\n",
       "      <th>Skin color_orange</th>\n",
       "      <td>0.002707</td>\n",
       "    </tr>\n",
       "    <tr>\n",
       "      <th>Skin color_bluewhite</th>\n",
       "      <td>0.001699</td>\n",
       "    </tr>\n",
       "    <tr>\n",
       "      <th>Race_Human / Cosmic</th>\n",
       "      <td>0.000266</td>\n",
       "    </tr>\n",
       "  </tbody>\n",
       "</table>\n",
       "</div>"
      ],
      "text/plain": [
       "                      importance\n",
       "Skin color_red          0.081206\n",
       "Skin color_green        0.078661\n",
       "Race_Alien              0.067016\n",
       "Race_Human              0.061499\n",
       "Hair_Hair               0.059345\n",
       "Weight2_Small           0.057054\n",
       "Height2_Tall            0.051702\n",
       "Race_Mutant             0.050244\n",
       "Gender_Female           0.045164\n",
       "Race_God                0.044313\n",
       "Skin color_purple       0.043643\n",
       "Skin color_blue         0.038317\n",
       "Weight2_Big             0.035664\n",
       "Hair_No Hair            0.034193\n",
       "Skin color_yellow       0.029052\n",
       "Skin color_white        0.028590\n",
       "Race_Demon              0.026856\n",
       "Skin color_grey         0.025314\n",
       "Skin color_silver       0.024167\n",
       "Race_Woodland           0.020077\n",
       "Height2_Short           0.017916\n",
       "Gender_Male             0.017466\n",
       "Race_Machine/Droid      0.017339\n",
       "Skin color_pink         0.016334\n",
       "Skin color_gold         0.012637\n",
       "Skin color_gray         0.011558\n",
       "Skin color_orange       0.002707\n",
       "Skin color_bluewhite    0.001699\n",
       "Race_Human / Cosmic     0.000266"
      ]
     },
     "execution_count": 43,
     "metadata": {},
     "output_type": "execute_result"
    }
   ],
   "source": [
    "var_nam=pd.get_dummies(df2[['Gender', 'Race', 'Skin color', 'Hair', 'Height2', 'Weight2']]).dropna().columns\n",
    "importance = pd.DataFrame(rfc.feature_importances_,index = var_nam, columns = ['importance']).sort_values('importance',ascending = False)\n",
    "importance"
   ]
  },
  {
   "cell_type": "markdown",
   "metadata": {},
   "source": [
    "Based on the results above, hair, gender, race, and skin color are good predictors for alignment."
   ]
  },
  {
   "cell_type": "markdown",
   "metadata": {},
   "source": [
    "## Conclusion"
   ]
  },
  {
   "cell_type": "markdown",
   "metadata": {},
   "source": [
    "As evidenced by the model above, key features in predicting good alignment are hair, skin color, weight, and race. The ideal good superhero candidate has hair, is female, short and small in stature, has a green or blue skin tone, and is human. When looking at the broader picture, this analysis sheds light into how superheroes attribute to societal stereotypes and beauty standards. \n",
    "\n",
    "Beginning with hair, hero alignment is most influenced by hair. Think of all the hair loss products and obsession with healthy hair that is constantly barraged on television. Sci-fi/Fantasy superhero genre is no exception to this trend. By linking alignment to the presence of hair, superheroes are sending the clear message: don’t be bald.\n",
    "\n",
    "The second feature of importance is skin color. Within the analysis, vibrant colors such as green, blue, and gold demonstrated a higher probability of aligning with good. Grey spectrum colors such as grey, white, and black present a wider range for alignment but maintained a lower probability of being good. Vibrancy seems to be a key aspect for good superheroes. Colors that are more likely to catch the eye generate superheroes that are good.\n",
    "\n",
    "Weight is the third most important feature. Superhero weight ties into the concept of body image and how it is represented through media. Smaller framed superheroes were most likely to align with good. Linking this with gender, females had a higher rate of aligning good than their male counterparts. The stereotypical image of females through media is often being tiny and waif like. On the other hand, males are muscular and to be feared/dominate. According to the results of this analysis, superheroes fall directly into that stereotype. Males and bigger framed individuals are less likely to align with good, thus, following the stereotypical male ideal.\n",
    "\n",
    "The final feature of importance is race. From the analysis, the conclusion is humans are most likely to be good. This notion relates to the concept of the other. The other being an outsider or different from the collective group. By showing human superheroes or mutants (human mutations) are most likely to be good and the rest are bad, superheroes are indicating that outsiders are not good. Mistrust of those that are different is the message taken from race-based alignment for superheroes.\n",
    "\n",
    "Given these findings, here is the real-world application. This information basically outlines how to generate a superhero. The industry could use this model to help create the typical hero or villain. Furthermore, the information may be used for superhero creation that goes against the norms and addresses some of the issues described above. All in all, this analysis is an outline for the look of a superhero.\n"
   ]
  },
  {
   "cell_type": "code",
   "execution_count": null,
   "metadata": {},
   "outputs": [],
   "source": []
  }
 ],
 "metadata": {
  "kernelspec": {
   "display_name": "Python 3",
   "language": "python",
   "name": "python3"
  },
  "language_info": {
   "codemirror_mode": {
    "name": "ipython",
    "version": 3
   },
   "file_extension": ".py",
   "mimetype": "text/x-python",
   "name": "python",
   "nbconvert_exporter": "python",
   "pygments_lexer": "ipython3",
   "version": "3.6.4"
  }
 },
 "nbformat": 4,
 "nbformat_minor": 2
}
